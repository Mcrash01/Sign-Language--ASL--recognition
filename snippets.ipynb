{
 "cells": [
  {
   "cell_type": "code",
   "execution_count": null,
   "metadata": {},
   "outputs": [],
   "source": [
    "%pip install tensorflow==2.12 opencv-python mediapipe sklearn matplotlib\n"
   ]
  },
  {
   "cell_type": "code",
   "execution_count": null,
   "metadata": {},
   "outputs": [],
   "source": [
    "# § Test if your webcam's feed is accessible\n",
    "import cv2\n",
    "\n",
    "cap = cv2.VideoCapture(0)\n",
    "# ! if this does not open a window with your webcam, try incrementing the '0' to find the right device number\n",
    "# ? You can replace the '0' with a file path to open a video saved in your local files\n",
    "\n",
    "while cap.isOpened():\n",
    "    ret, frame = cap.read()\n",
    "    cv2.imshow(\"OpenCV feed\", frame)\n",
    "    if cv2.waitKey(10) & 0xFF == ord('q'):\n",
    "        break\n",
    "cap.release()\n",
    "cv2.destroyAllWindows()\n"
   ]
  },
  {
   "cell_type": "code",
   "execution_count": null,
   "metadata": {},
   "outputs": [],
   "source": [
    "# § Load labels as dict\n",
    "import json\n",
    "import os\n",
    "\n",
    "data_path = r'downloads/data'\n",
    "labels_file = r'labels.json'\n",
    "\n",
    "with open(os.path.join(data_path, labels_file), \"r\") as labels_reader:\n",
    "    labels = json.load(labels_reader)\n",
    "\n",
    "labels\n"
   ]
  },
  {
   "cell_type": "code",
   "execution_count": null,
   "metadata": {},
   "outputs": [],
   "source": [
    "# § Vectorise a landmark sequence\n",
    "import numpy as np\n",
    "\n",
    "data_path = r'downloads/data'\n",
    "landmarks_folder = r'landmarks'\n",
    "\n",
    "\n",
    "def vectorize_landmark(landmark: np.ndarray, *, include_face: bool = True, include_pose: bool = True,\n",
    "                       include_righth: bool = True, include_lefth: bool = True) -> np.ndarray:\n",
    "    return np.concatenate(landmark[[include_face, include_pose, include_lefth, include_righth]])\n",
    "\n",
    "\n",
    "def vectorize_landmark_frames(landmark_frames: np.ndarray, *, include_face: bool = True, include_pose: bool = True,\n",
    "                              include_righth: bool = True, include_lefth: bool = True) -> np.ndarray:\n",
    "    for i, landmarks in enumerate(landmark_frames):\n",
    "        landmark_frames[i] = vectorize_landmark(landmarks, include_face=include_face, include_pose=include_pose,\n",
    "                                                include_lefth=include_lefth, include_righth=include_righth)\n",
    "    return landmark_frames\n",
    "\n",
    "\n",
    "lm = np.load(r'downloads/data/landmarks/00597.npy', allow_pickle=True)\n",
    "vlm = vectorize_landmark_frames(lm, include_face=False)\n",
    "vlm\n"
   ]
  },
  {
   "cell_type": "code",
   "execution_count": null,
   "metadata": {},
   "outputs": [],
   "source": [
    "# return the true number of dim for a numpy jagged array\n",
    "def dim_number_jaggedArray(arr):\n",
    "    dimensions = 0\n",
    "    arr_copy = arr.copy()\n",
    "\n",
    "    while True:\n",
    "        try:\n",
    "            _ = arr_copy[0]\n",
    "            dimensions += 1\n",
    "            arr_copy = arr_copy[0]\n",
    "        except (TypeError, IndexError):\n",
    "            break\n",
    "\n",
    "    return dimensions\n",
    "\n",
    "# return which first dim of a numpy jagged array is jagged, -1 if no jagged dimension\n",
    "\n",
    "\n",
    "def find_jagged_dimension(arr):\n",
    "    if (arr.ndim != (dim_number_jaggedArray(arr))):\n",
    "        return arr.ndim+1\n",
    "    else:\n",
    "        return -1\n"
   ]
  },
  {
   "cell_type": "code",
   "execution_count": null,
   "metadata": {},
   "outputs": [],
   "source": [
    "# not very useful function\n",
    "def get_jagged_structure(arr):\n",
    "    structure = []\n",
    "    if isinstance(arr, np.ndarray) and arr.ndim > 0:\n",
    "        for subarr in arr:\n",
    "            sub_structure = get_jagged_structure(subarr)\n",
    "            structure.append(len(sub_structure))\n",
    "    else:\n",
    "        return []\n",
    "\n",
    "    return structure\n"
   ]
  }
 ],
 "metadata": {
  "kernelspec": {
   "display_name": "Python 3",
   "language": "python",
   "name": "python3"
  },
  "language_info": {
   "codemirror_mode": {
    "name": "ipython",
    "version": 3
   },
   "file_extension": ".py",
   "mimetype": "text/x-python",
   "name": "python",
   "nbconvert_exporter": "python",
   "pygments_lexer": "ipython3",
   "version": "3.10.11"
  },
  "orig_nbformat": 4
 },
 "nbformat": 4,
 "nbformat_minor": 2
}
