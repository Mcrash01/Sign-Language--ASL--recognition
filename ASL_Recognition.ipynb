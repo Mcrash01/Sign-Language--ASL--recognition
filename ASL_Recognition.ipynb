{
 "cells": [
  {
   "attachments": {},
   "cell_type": "markdown",
   "metadata": {},
   "source": [
    "# Sign Language (ASL) recognition\n",
    "An Artificial Intelligence project by Emile GATIGNON and Martin RAMPONT\n",
    "\n",
    "> \"Artificial Intelligence\" - Course N° 12721 at Hanyang University with professor 백성용 / Sungyong Baik\n",
    "> \n",
    "> Spring Semester 2023\n"
   ]
  }
 ],
 "metadata": {
  "language_info": {
   "name": "python"
  },
  "orig_nbformat": 4
 },
 "nbformat": 4,
 "nbformat_minor": 2
}
