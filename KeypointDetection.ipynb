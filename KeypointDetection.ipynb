{
 "cells": [
  {
   "attachments": {},
   "cell_type": "markdown",
   "metadata": {},
   "source": [
    "# [Updated version of Nicholas Renotte's solution]"
   ]
  },
  {
   "cell_type": "code",
   "execution_count": null,
   "metadata": {},
   "outputs": [],
   "source": [
    "%pip install tensorflow == 2.12 opencv-python mediapipe sklearn matplotlib\n"
   ]
  },
  {
   "cell_type": "code",
   "execution_count": null,
   "metadata": {},
   "outputs": [],
   "source": [
    "import cv2\n",
    "import mediapipe as mp\n",
    "import numpy as np\n",
    "import os\n",
    "# import time\n",
    "from matplotlib import pyplot as plt\n"
   ]
  },
  {
   "cell_type": "code",
   "execution_count": null,
   "metadata": {},
   "outputs": [],
   "source": [
    "mp_holistic = mp.solutions.holistic\n",
    "mp_drawing = mp.solutions.drawing_utils\n"
   ]
  },
  {
   "cell_type": "code",
   "execution_count": null,
   "metadata": {},
   "outputs": [],
   "source": [
    "def mediapipe_detection(image: cv2.Mat, model):\n",
    "    image = cv2.cvtColor(image, cv2.COLOR_BGR2RGB)\n",
    "    image.flags.writeable = False\n",
    "    results = model.process(image)\n",
    "    image.flags.writeable = True\n",
    "    image = cv2.cvtColor(image, cv2.COLOR_RGB2BGR)\n",
    "    return image, results\n"
   ]
  },
  {
   "cell_type": "code",
   "execution_count": null,
   "metadata": {},
   "outputs": [],
   "source": [
    "def draw_styled_landmarks(image, results):\n",
    "    # Draw face connections\n",
    "    mp_drawing.draw_landmarks(image, results.face_landmarks, mp_holistic.FACEMESH_CONTOURS,\n",
    "                              mp_drawing.DrawingSpec(color=(80, 110, 10), thickness=1, circle_radius=1),\n",
    "                              mp_drawing.DrawingSpec(color=(80, 256, 121), thickness=1, circle_radius=1)\n",
    "                              )\n",
    "    # Draw pose connections\n",
    "    mp_drawing.draw_landmarks(image, results.pose_landmarks, mp_holistic.POSE_CONNECTIONS,\n",
    "                              mp_drawing.DrawingSpec(color=(80, 22, 10), thickness=2, circle_radius=4),\n",
    "                              mp_drawing.DrawingSpec(color=(80, 44, 121), thickness=2, circle_radius=2)\n",
    "                              )\n",
    "    # Draw left hand connections\n",
    "    mp_drawing.draw_landmarks(image, results.left_hand_landmarks, mp_holistic.HAND_CONNECTIONS,\n",
    "                              mp_drawing.DrawingSpec(color=(121, 22, 76), thickness=2, circle_radius=4),\n",
    "                              mp_drawing.DrawingSpec(color=(121, 44, 250), thickness=2, circle_radius=2)\n",
    "                              )\n",
    "    # Draw right hand connections\n",
    "    mp_drawing.draw_landmarks(image, results.right_hand_landmarks, mp_holistic.HAND_CONNECTIONS,\n",
    "                              mp_drawing.DrawingSpec(color=(245, 117, 66), thickness=2, circle_radius=4),\n",
    "                              mp_drawing.DrawingSpec(color=(245, 66, 230), thickness=2, circle_radius=2)\n",
    "                              )\n"
   ]
  },
  {
   "cell_type": "code",
   "execution_count": null,
   "metadata": {},
   "outputs": [],
   "source": [
    "cap = cv2.VideoCapture(r\"downloads/PXL_20211114_112209361_compact.mp4\")\n",
    "# Set mediapipe model\n",
    "with mp_holistic.Holistic(min_detection_confidence=0.5, min_tracking_confidence=0.5) as holistic:\n",
    "    while cap.isOpened():\n",
    "\n",
    "        # Read feed\n",
    "        ret, frame = cap.read()\n",
    "\n",
    "        # Make detections\n",
    "        image, results = mediapipe_detection(frame, holistic)\n",
    "        print(results)\n",
    "\n",
    "        # Draw landmarks\n",
    "        draw_styled_landmarks(image, results)\n",
    "\n",
    "        # Show to screen\n",
    "        cv2.imshow('OpenCV Feed', image)\n",
    "\n",
    "        # Break gracefully\n",
    "        if cv2.waitKey(10) & 0xFF == ord('q'):\n",
    "            break\n",
    "    cap.release()\n",
    "    cv2.destroyAllWindows()\n"
   ]
  },
  {
   "cell_type": "code",
   "execution_count": null,
   "metadata": {},
   "outputs": [],
   "source": [
    "def extract_landmarks(results) -> np.ndarray:\n",
    "    \"\"\"Transforms the results from a mediapipe process to a NumPy Array\n",
    "\n",
    "    Args:\n",
    "        results: Results from a mediapipe process\n",
    "\n",
    "    Returns:\n",
    "        np.ndarray: Vectorized results, missing landmarks are representend as numpy.nan\n",
    "        \n",
    "        results.shape = (4,)\n",
    "\n",
    "        results[0].shape = (468, 3), results[1].shape = (33, 3),\n",
    "        results[2].shape = (21, 3), results[3].shape = (21, 3)\n",
    "    \"\"\"\n",
    "    face_landmarks = np.zeros((468, 3))\n",
    "    face_landmarks.fill(np.nan)\n",
    "    if results.face_landmarks != None:\n",
    "        for i, landmark in enumerate(results.face_landmarks.landmark):\n",
    "            face_landmarks[i] = landmark.x, landmark.y, landmark.z\n",
    "    else:\n",
    "        face_landmarks.fill(np.nan)\n",
    "\n",
    "    pose_landmarks = np.zeros((33, 3))\n",
    "    pose_landmarks.fill(np.nan)\n",
    "    if results.pose_landmarks != None:\n",
    "        for i, landmark in enumerate(results.pose_landmarks.landmark):\n",
    "            pose_landmarks[i] = landmark.x, landmark.y, landmark.z\n",
    "    else:\n",
    "        pose_landmarks.fill(np.nan)\n",
    "\n",
    "    left_hand_landmarks = np.zeros((21, 3))\n",
    "    left_hand_landmarks.fill(np.nan)\n",
    "    if results.left_hand_landmarks != None:\n",
    "        for i, landmark in enumerate(results.left_hand_landmarks.landmark):\n",
    "            left_hand_landmarks[i] = landmark.x, landmark.y, landmark.z\n",
    "    else:\n",
    "        left_hand_landmarks.fill(np.nan)\n",
    "\n",
    "    right_hand_landmarks = np.zeros((21, 3))\n",
    "    right_hand_landmarks.fill(np.nan)\n",
    "    if results.right_hand_landmarks != None:\n",
    "        for i, landmark in enumerate(results.right_hand_landmarks.landmark):\n",
    "            right_hand_landmarks[i] = landmark.x, landmark.y, landmark.z\n",
    "    else:\n",
    "        right_hand_landmarks.fill(np.nan)\n",
    "\n",
    "    return np.array([face_landmarks, pose_landmarks, left_hand_landmarks, right_hand_landmarks], dtype=object)"
   ]
  },
  {
   "attachments": {},
   "cell_type": "markdown",
   "metadata": {},
   "source": [
    "=== stopped at 40:08 ==="
   ]
  }
 ],
 "metadata": {
  "kernelspec": {
   "display_name": "Python 3",
   "language": "python",
   "name": "python3"
  },
  "language_info": {
   "codemirror_mode": {
    "name": "ipython",
    "version": 3
   },
   "file_extension": ".py",
   "mimetype": "text/x-python",
   "name": "python",
   "nbconvert_exporter": "python",
   "pygments_lexer": "ipython3",
   "version": "3.10.11"
  },
  "orig_nbformat": 4
 },
 "nbformat": 4,
 "nbformat_minor": 2
}
